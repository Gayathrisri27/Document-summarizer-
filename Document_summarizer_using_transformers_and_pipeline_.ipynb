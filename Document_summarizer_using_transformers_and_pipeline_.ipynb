{
  "nbformat": 4,
  "nbformat_minor": 0,
  "metadata": {
    "colab": {
      "provenance": []
    },
    "kernelspec": {
      "name": "python3",
      "display_name": "Python 3"
    },
    "language_info": {
      "name": "python"
    }
  },
  "cells": [
    {
      "cell_type": "code",
      "execution_count": null,
      "metadata": {
        "colab": {
          "base_uri": "https://localhost:8080/"
        },
        "id": "RshtKPDI1nSj",
        "outputId": "d9bf06f7-863e-4494-c941-708e91e1f175"
      },
      "outputs": [
        {
          "output_type": "stream",
          "name": "stderr",
          "text": [
            "Your max_length is set to 150, but your input_length is only 143. Since this is a summarization task, where outputs shorter than the input are typically wanted, you might consider decreasing max_length manually, e.g. summarizer('...', max_length=71)\n",
            "Your max_length is set to 150, but your input_length is only 48. Since this is a summarization task, where outputs shorter than the input are typically wanted, you might consider decreasing max_length manually, e.g. summarizer('...', max_length=24)\n"
          ]
        },
        {
          "output_type": "stream",
          "name": "stdout",
          "text": [
            "Original text length: 1027\n",
            "Summary length: 415\n",
            "\n",
            "Summary:\n",
            "Accenture is a global professional services company specializing in digital, cloud, and security solutions. Founded in 1989, it is headquartered in Dublin, Ireland, and operates in over 120 countries. Accenture’s innovative approach to problem-solving, combined with a global talent pool, enables it to deliver cutting-edge solutions for clients. Accenture is one of the world's top consulting and technology firms.\n"
          ]
        }
      ],
      "source": [
        "import nltk\n",
        "from transformers import pipeline\n",
        "\n",
        "def summarize_document(text, max_length=150):\n",
        "    # Download necessary NLTK data\n",
        "    nltk.download('punkt', quiet=True)\n",
        "\n",
        "    # Initialize the summarization pipeline\n",
        "    summarizer = pipeline(\"summarization\", model=\"facebook/bart-large-cnn\")\n",
        "\n",
        "    # Split the text into sentences\n",
        "    sentences = nltk.sent_tokenize(text)\n",
        "\n",
        "    # Join sentences into chunks of approximately 1000 characters\n",
        "    chunks = []\n",
        "    current_chunk = \"\"\n",
        "    for sentence in sentences:\n",
        "        if len(current_chunk) + len(sentence) < 1000:\n",
        "            current_chunk += \" \" + sentence\n",
        "        else:\n",
        "            chunks.append(current_chunk.strip())\n",
        "            current_chunk = sentence\n",
        "\n",
        "    if current_chunk:\n",
        "        chunks.append(current_chunk.strip())\n",
        "\n",
        "    # Summarize each chunk\n",
        "    summaries = []\n",
        "    for chunk in chunks:\n",
        "        summary = summarizer(chunk, max_length=max_length, min_length=30, do_sample=False)\n",
        "        summaries.append(summary[0]['summary_text'])\n",
        "\n",
        "    # Join the summaries\n",
        "    final_summary = \" \".join(summaries)\n",
        "\n",
        "    return final_summary\n",
        "\n",
        "# Example usage\n",
        "document = \"\"\"\n",
        "Accenture is a global professional services company specializing in digital, cloud, and security solutions. Founded in 1989, it is headquartered in Dublin, Ireland, and operates in over 120 countries. Accenture provides services across five key areas: strategy, consulting, digital, technology, and operations, helping businesses improve efficiency, drive innovation, and embrace new technologies. With a strong focus on digital transformation, the company partners with organizations worldwide to help them adapt to evolving market demands.\n",
        "\n",
        "Accenture's expertise in industries such as healthcare, finance, communications, and more makes it a leader in business consulting. Sustainability and inclusion are core values, as the company is committed to reducing its environmental footprint and promoting diversity. Accenture’s innovative approach to problem-solving, combined with a global talent pool, enables it to deliver cutting-edge solutions for clients, making it one of the world’s top consulting and technology firms.\n",
        "\"\"\"\n",
        "\n",
        "summary = summarize_document(document)\n",
        "print(\"Original text length:\", len(document))\n",
        "print(\"Summary length:\", len(summary))\n",
        "print(\"\\nSummary:\")\n",
        "print(summary)"
      ]
    },
    {
      "cell_type": "code",
      "source": [],
      "metadata": {
        "id": "r5jRvuH92-7u"
      },
      "execution_count": null,
      "outputs": []
    }
  ]
}